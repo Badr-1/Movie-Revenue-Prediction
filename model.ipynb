{
 "cells": [
  {
   "cell_type": "markdown",
   "metadata": {},
   "source": [
    "steps:\n",
    "1. merge_data based on movie title\n",
    "2. clean data remove $ and , from revenue\n",
    "3. encoding\n",
    "4. split data into train and test\n",
    "5. train model\n",
    "6. predict\n",
    "7. evaluate\n",
    "8. save model"
   ]
  },
  {
   "cell_type": "markdown",
   "metadata": {},
   "source": [
    "# Load, clean, and fill data"
   ]
  },
  {
   "cell_type": "code",
   "execution_count": 1,
   "metadata": {},
   "outputs": [],
   "source": [
    "\n",
    "import datetime\n",
    "import requests\n",
    "import pandas as pd\n",
    "from sklearn.linear_model import LinearRegression\n",
    "from category_encoders import TargetEncoder\n",
    "from sklearn.preprocessing import LabelEncoder\n",
    "from sklearn.preprocessing import OrdinalEncoder\n",
    "from sklearn.preprocessing import OneHotEncoder\n",
    "from sklearn.preprocessing import MinMaxScaler\n",
    "from sklearn.preprocessing import PolynomialFeatures\n",
    "from sklearn.model_selection import train_test_split\n",
    "from sklearn import linear_model\n",
    "from sklearn import metrics\n",
    "import matplotlib.pyplot as plt\n",
    "import seaborn as sns\n",
    "import numpy as np\n",
    "import string\n",
    "import pickle\n",
    "import joblib\n",
    "import csv\n",
    "import scipy.stats as stats"
   ]
  },
  {
   "cell_type": "code",
   "execution_count": 2,
   "metadata": {},
   "outputs": [],
   "source": [
    "def merge_data():\n",
    "    act_data = pd.read_csv(\"movie-voice-actors.csv\")\n",
    "    dir_data = pd.read_csv(\"movie-director.csv\")\n",
    "    rev_data = pd.read_csv(\"movies-revenue.csv\")\n",
    "    act_data.rename(columns={\"movie\": \"movie_title\"}, inplace=True)\n",
    "    dir_data.rename(columns={\"name\": \"movie_title\"}, inplace=True)\n",
    "    merged_data = pd.merge(rev_data, dir_data, on=\"movie_title\", how=\"outer\")\n",
    "    merged_data = pd.merge(merged_data,\n",
    "                           act_data,\n",
    "                           on=\"movie_title\",\n",
    "                           how=\"outer\")\n",
    "    merged_data = merged_data[[col for col in merged_data.columns if col != \"revenue\"] + [\"revenue\"]]\n",
    "    return merged_data"
   ]
  },
  {
   "cell_type": "code",
   "execution_count": 3,
   "metadata": {},
   "outputs": [],
   "source": [
    "def cleaning(data):\n",
    "    # removing $ and ,\n",
    "    data[\"revenue\"] = data[\"revenue\"].str.replace('$', '', regex=False)\n",
    "    data[\"revenue\"] = data[\"revenue\"].str.replace(',', '', regex=False)\n",
    "    data[\"revenue\"] = data[\"revenue\"].astype(float)\n",
    "    return data"
   ]
  },
  {
   "cell_type": "code",
   "execution_count": 4,
   "metadata": {},
   "outputs": [],
   "source": [
    "def fill(data):   \n",
    "    data = data.fillna(axis=0, method='ffill')\n",
    "    data = data.fillna(axis=0, method='backfill')\n",
    "    return data"
   ]
  },
  {
   "cell_type": "code",
   "execution_count": 5,
   "metadata": {},
   "outputs": [],
   "source": [
    "def remove_outlier(data):\n",
    "    z_scores = stats.zscore(data)\n",
    "    abs_z_scores = np.abs(z_scores)\n",
    "    filtered_entries = (abs_z_scores < 3).all(axis=1)\n",
    "    data = data[filtered_entries]\n",
    "    return data"
   ]
  },
  {
   "cell_type": "code",
   "execution_count": 6,
   "metadata": {},
   "outputs": [],
   "source": [
    "data = merge_data()\n",
    "data = cleaning(data)\n",
    "data = fill(data)"
   ]
  },
  {
   "cell_type": "code",
   "execution_count": 7,
   "metadata": {},
   "outputs": [],
   "source": [
    "data.to_csv(\"cleaned_data.csv\", index=False)"
   ]
  },
  {
   "cell_type": "markdown",
   "metadata": {},
   "source": [
    "# Encoding"
   ]
  },
  {
   "cell_type": "code",
   "execution_count": 8,
   "metadata": {},
   "outputs": [],
   "source": [
    "def encoding(data):\n",
    "    df = data.copy()\n",
    "    print(df.columns)\n",
    "    # rating \n",
    "    df = rating_ordinal_encoding(df)\n",
    "    # release date\n",
    "    # df = release_date_feature_extraction(df)\n",
    "    df = mean_encoding_of(df, 'release_date')\n",
    "    # genre\n",
    "    df = label_encoding_of(df, 'genre')\n",
    "    # df = label_encoding_of(df, 'genre')\n",
    "    # movie title\n",
    "    df = label_encoding_of(df,'movie_title')\n",
    "    # voice actor\n",
    "    df = label_encoding_of(df,'voice-actor')\n",
    "    # character\n",
    "    df = label_encoding_of(df,'character')\n",
    "    # director\n",
    "    df = mean_encoding_of(df,'director')\n",
    "    return df"
   ]
  },
  {
   "cell_type": "markdown",
   "metadata": {},
   "source": [
    "## Mean"
   ]
  },
  {
   "cell_type": "code",
   "execution_count": 9,
   "metadata": {},
   "outputs": [],
   "source": [
    "def mean_encoding_of(data,col):\n",
    "    encoder = TargetEncoder()\n",
    "    data[col] = encoder.fit_transform(data[col],data['revenue'])\n",
    "    return data"
   ]
  },
  {
   "cell_type": "markdown",
   "metadata": {},
   "source": [
    "## Label"
   ]
  },
  {
   "cell_type": "code",
   "execution_count": 10,
   "metadata": {},
   "outputs": [],
   "source": [
    "def label_encoding_of(data,col):\n",
    "    lbl_encode = LabelEncoder()\n",
    "    data[col] = lbl_encode.fit_transform(data[col])\n",
    "    return data;"
   ]
  },
  {
   "cell_type": "markdown",
   "metadata": {},
   "source": [
    "## Ordinal"
   ]
  },
  {
   "cell_type": "code",
   "execution_count": 11,
   "metadata": {},
   "outputs": [],
   "source": [
    "def rating_ordinal_encoding(data):\n",
    "    ord_encode = OrdinalEncoder()\n",
    "    sr = pd.Series(data['MPAA_rating'])\n",
    "    mapped_rate = {'R': 1, 'PG': 2, 'PG-13': 3, 'G': 4, 'Not Rated': 3, 'NR': 3}\n",
    "    # mapped_rate = {'Not Rated': 0, 'G': 1, 'PG': 2, 'PG-13': 3, 'R': 4}\n",
    "    data['MPAA_rating'] = data['MPAA_rating'].replace(mapped_rate)\n",
    "    return data\n"
   ]
  },
  {
   "cell_type": "code",
   "execution_count": 12,
   "metadata": {},
   "outputs": [],
   "source": [
    "def genre_ordinal_encoding(data):\n",
    "    mapped_genre = {'Comedy': 9, 'Adventure': 13, 'Drama': 7, 'Action': 12, 'Musical': 15, 'Romantic Comedy': 8,\n",
    "                    'Horror': 3, \\\n",
    "                    'Thriller/Suspense': 6, 'Crime': 1, 'Documentary': 2, 'Fantasy': 14, 'Black Comedy': 4,\n",
    "                    'Western': 5, \\\n",
    "                    'Romance': 10, 'Animation': 11}\n",
    "    data['genre'] = data['genre'].replace(mapped_genre)\n",
    "    return data"
   ]
  },
  {
   "cell_type": "markdown",
   "metadata": {},
   "source": [
    "## Feature extraction"
   ]
  },
  {
   "cell_type": "code",
   "execution_count": 13,
   "metadata": {},
   "outputs": [],
   "source": [
    "def release_date_feature_extraction(data):\n",
    "    # data['day'] = pd.DatetimeIndex(data['release_date']).day\n",
    "    data['month'] = pd.DatetimeIndex(data['release_date']).month\n",
    "    # data['new_movie'] = 0\n",
    "    data['year'] = data['release_date'].str[-2:].astype(int)\n",
    "    for i in range(len(data)):\n",
    "        x = data['year'].iloc[i]\n",
    "        if x > 23 and x <= 99:\n",
    "            data.iloc[i, data.columns.get_loc('year')] += 1900\n",
    "        else:\n",
    "            data.iloc[i, data.columns.get_loc('year')] += 2000\n",
    "            \n",
    "    # for i in range(len(data)):\n",
    "    #     if data['year'].iloc[i] >= 2005:\n",
    "    #         data.iloc[i, data.columns.get_loc('new_movie')] =1\n",
    "    data.drop(['release_date'], axis=1, inplace=True)\n",
    "    return data"
   ]
  },
  {
   "cell_type": "markdown",
   "metadata": {},
   "source": [
    "## Modified one hot encoding"
   ]
  },
  {
   "cell_type": "code",
   "execution_count": 14,
   "metadata": {},
   "outputs": [],
   "source": [
    "def directors_modified_one_hot_encoding(data):\n",
    "    directors_movies = data['director'].value_counts()\n",
    "    for x in directors_movies.index:\n",
    "        if directors_movies[x] >= 3:\n",
    "            data[x] = 0\n",
    "            data.loc[data.director == x, x] = 1\n",
    "    data.drop(['director'], axis=1, inplace=True)\n",
    "    return data"
   ]
  },
  {
   "cell_type": "markdown",
   "metadata": {},
   "source": [
    "## Implementing of encoding"
   ]
  },
  {
   "cell_type": "code",
   "execution_count": 15,
   "metadata": {},
   "outputs": [
    {
     "name": "stdout",
     "output_type": "stream",
     "text": [
      "Index(['movie_title', 'release_date', 'genre', 'MPAA_rating', 'director',\n",
      "       'character', 'voice-actor', 'revenue'],\n",
      "      dtype='object')\n"
     ]
    }
   ],
   "source": [
    "df = data.copy()\n",
    "print(df.columns)\n",
    "# rating \n",
    "df = rating_ordinal_encoding(df)\n",
    "# release date\n",
    "# df = release_date_feature_extraction(df)\n",
    "df = mean_encoding_of(df, 'release_date')\n",
    "# genre\n",
    "df = label_encoding_of(df, 'genre')\n",
    "# df = label_encoding_of(df, 'genre')\n",
    "# movie title\n",
    "df = label_encoding_of(df,'movie_title')\n",
    "# voice actor\n",
    "df = label_encoding_of(df,'voice-actor')\n",
    "# character\n",
    "df = label_encoding_of(df,'character')\n",
    "# director\n",
    "df = mean_encoding_of(df,'director')\n"
   ]
  },
  {
   "cell_type": "markdown",
   "metadata": {},
   "source": [
    "## Feature selection"
   ]
  },
  {
   "cell_type": "code",
   "execution_count": 16,
   "metadata": {},
   "outputs": [],
   "source": [
    "def feature_selection(data):\n",
    "    corr = df.corr()\n",
    "    # Top 21% Correlation training features with the Value\n",
    "    top_feature = corr.index[abs(corr['revenue']) > 0.21]\n",
    "    # Correlation plot\n",
    "    plt.subplots(figsize=(12, 8))\n",
    "    top_corr = df[top_feature].corr()\n",
    "    sns.heatmap(top_corr, annot=True)\n",
    "    top_feature = top_feature.drop(['revenue'])\n",
    "    # plt.show()    \n",
    "    return data"
   ]
  },
  {
   "cell_type": "code",
   "execution_count": 17,
   "metadata": {},
   "outputs": [
    {
     "name": "stdout",
     "output_type": "stream",
     "text": [
      "[]\n"
     ]
    }
   ],
   "source": [
    "dataX = df.drop(['revenue'],axis=1)\n",
    "cor_matrix = dataX.corr().abs()\n",
    "upper_tri = cor_matrix.where(np.triu(np.ones(cor_matrix.shape),k=1).astype(bool))\n",
    "to_drop = [column for column in upper_tri.columns if any(upper_tri[column] > 0.7)]\n",
    "print(to_drop)\n",
    "df = df.drop(to_drop, axis=1)"
   ]
  },
  {
   "cell_type": "code",
   "execution_count": 18,
   "metadata": {},
   "outputs": [
    {
     "data": {
      "text/plain": "<Figure size 864x576 with 2 Axes>",
      "image/png": "[encoded data removed]"
     },
     "metadata": {
      "needs_background": "light"
     },
     "output_type": "display_data"
    }
   ],
   "source": [
    "corr = df.corr()\n",
    "# Top 19% Correlation training features with the Value\n",
    "top_feature = corr.index[abs(corr['revenue']) > 0.21]\n",
    "# Correlation plot\n",
    "plt.subplots(figsize=(12, 8))\n",
    "top_corr = df[top_feature].corr()\n",
    "sns.heatmap(top_corr, annot=True)\n",
    "top_feature = top_feature.drop(['revenue'])\n",
    "# plt.show()"
   ]
  },
  {
   "cell_type": "markdown",
   "metadata": {},
   "source": [
    "# Model"
   ]
  },
  {
   "cell_type": "markdown",
   "metadata": {},
   "source": [
    "## Dividing data x and y "
   ]
  },
  {
   "cell_type": "code",
   "execution_count": 19,
   "metadata": {},
   "outputs": [],
   "source": [
    "def divide_data(data):\n",
    "    y = df['revenue']\n",
    "    print(top_feature)\n",
    "    x = df[top_feature]\n",
    "    return x,y"
   ]
  },
  {
   "cell_type": "code",
   "execution_count": 20,
   "metadata": {},
   "outputs": [
    {
     "name": "stdout",
     "output_type": "stream",
     "text": [
      "Index(['release_date', 'genre', 'director'], dtype='object')\n"
     ]
    }
   ],
   "source": [
    "# dividing data\n",
    "y = df['revenue']\n",
    "print(top_feature)\n",
    "x = df[top_feature]"
   ]
  },
  {
   "cell_type": "markdown",
   "metadata": {
    "collapsed": false
   },
   "source": [
    "## SCALING"
   ]
  },
  {
   "cell_type": "code",
   "execution_count": 21,
   "metadata": {},
   "outputs": [],
   "source": [
    "def apply_scalling(x):\n",
    "    scaler = MinMaxScaler()\n",
    "    x = scaler.fit_transform(x)\n",
    "    return x"
   ]
  },
  {
   "cell_type": "code",
   "execution_count": 22,
   "metadata": {
    "collapsed": false,
    "pycharm": {
     "name": "#%%\n"
    }
   },
   "outputs": [],
   "source": [
    "scaler = MinMaxScaler()\n",
    "x = scaler.fit_transform(x)"
   ]
  },
  {
   "cell_type": "markdown",
   "metadata": {},
   "source": [
    "## splitting data to train and test"
   ]
  },
  {
   "cell_type": "code",
   "execution_count": 23,
   "metadata": {},
   "outputs": [],
   "source": [
    "def split_to_train_test(x,y):\n",
    "    x_train,x_test,y_train,y_test = train_test_split(x,y,test_size=0.2,random_state=42)\n",
    "    return x_train,x_test,y_train,y_test"
   ]
  },
  {
   "cell_type": "code",
   "execution_count": 24,
   "metadata": {},
   "outputs": [],
   "source": [
    "\n",
    "# splitting data to train and test\n",
    "x_train, x_test, y_train, y_test = train_test_split(x,\n",
    "                                                    y,\n",
    "                                                    test_size=.20,\n",
    "                                                    shuffle=True,\n",
    "                                                    random_state=45)\n"
   ]
  },
  {
   "cell_type": "markdown",
   "metadata": {},
   "source": [
    "## Ridge regression"
   ]
  },
  {
   "cell_type": "code",
   "execution_count": 25,
   "metadata": {},
   "outputs": [
    {
     "name": "stdout",
     "output_type": "stream",
     "text": [
      "\n",
      "MSE ridge {Train} 1.236196634316165e+16\n",
      "MSE ridge {Test} 9790494117613652.0\n",
      "R2 Score ridge 0.9290519541781909\n",
      "\n",
      "True value for the first film in the test set is : 182029412.0\n",
      "Predicted value for the first film in the test set is : 148998333.13906726\n",
      "Difference between true and predicted value is : 33031078.860932738\n"
     ]
    }
   ],
   "source": [
    "ridg = linear_model.Ridge()\n",
    "ridg.fit(x_train, y_train)\n",
    "\n",
    "print(\"\")\n",
    "prediction_ridge_train = ridg.predict(x_train)\n",
    "print('MSE ridge {Train}', metrics.mean_squared_error(np.asarray(y_train), prediction_ridge_train))\n",
    "prediction_ridge = ridg.predict(x_test)\n",
    "print('MSE ridge {Test}', metrics.mean_squared_error(np.asarray(y_test), prediction_ridge))\n",
    "print(\"R2 Score ridge\", metrics.r2_score(np.asarray(y_test), prediction_ridge))\n",
    "print(\"\")\n",
    "\n",
    "true_film_value = np.asarray(y_test)[0]\n",
    "predicted_film_value = prediction_ridge[0]\n",
    "print('True value for the first film in the test set is : ' + str(true_film_value))\n",
    "print('Predicted value for the first film in the test set is : ' + str(predicted_film_value))\n",
    "print (\"Difference between true and predicted value is : \" + str(true_film_value - predicted_film_value))"
   ]
  },
  {
   "cell_type": "markdown",
   "metadata": {},
   "source": [
    "## Polynomial regression"
   ]
  },
  {
   "cell_type": "code",
   "execution_count": 26,
   "metadata": {},
   "outputs": [
    {
     "name": "stdout",
     "output_type": "stream",
     "text": [
      "\n",
      "MSE Poly {TRAIN} 7836366642526675.0\n",
      "MSE Poly {TEST} 5316857806687499.0\n",
      "R2 Score Poly 0.9614707218281999\n",
      "\n",
      "True value for the first film in the test set is : 182029412.0\n",
      "Predicted value for the first film in the test set is : 160184656.27032802\n",
      "Difference between true and predicted value is : 21844755.729671985\n"
     ]
    },
    {
     "data": {
      "text/plain": "['poly_features']"
     },
     "execution_count": 26,
     "metadata": {},
     "output_type": "execute_result"
    }
   ],
   "source": [
    "poly_features = PolynomialFeatures(degree=3)\n",
    "x_train_poly = poly_features.fit_transform(x_train)\n",
    "x_test_poly = poly_features.fit_transform(x_test)\n",
    "\n",
    "poly_model = linear_model.LinearRegression()\n",
    "poly_model.fit(x_train_poly, y_train)\n",
    "\n",
    "print(\"\")\n",
    "prediction_ploy_train = poly_model.predict(x_train_poly)\n",
    "print('MSE Poly {TRAIN}', metrics.mean_squared_error(y_train, prediction_ploy_train))\n",
    "prediction_ploy_test = poly_model.predict(x_test_poly)\n",
    "print('MSE Poly {TEST}', metrics.mean_squared_error(y_test, prediction_ploy_test))\n",
    "print(\"R2 Score Poly\", metrics.r2_score(y_test, prediction_ploy_test))\n",
    "print(\"\")\n",
    "\n",
    "true_film_value = np.asarray(y_test)[0]\n",
    "predicted_film_value = prediction_ploy_test[0]\n",
    "print('True value for the first film in the test set is : ' + str(true_film_value))\n",
    "print('Predicted value for the first film in the test set is : ' + str(predicted_film_value))\n",
    "print (\"Difference between true and predicted value is : \" + str(true_film_value - predicted_film_value))\n",
    "\n",
    "\n",
    "# saving models\n",
    "joblib.dump(ridg, 'ridg_model')\n",
    "joblib.dump(poly_model, 'poly_model')\n",
    "joblib.dump(poly_features, 'poly_features')"
   ]
  },
  {
   "cell_type": "code",
   "execution_count": 27,
   "metadata": {},
   "outputs": [
    {
     "name": "stdout",
     "output_type": "stream",
     "text": [
      "Index(['movie_title', 'release_date', 'genre', 'MPAA_rating', 'director',\n",
      "       'character', 'voice-actor', 'revenue'],\n",
      "      dtype='object')\n",
      "Index(['release_date', 'genre', 'director'], dtype='object')\n",
      "\n",
      "MSE ridge {All} 1.1847671898052052e+16\n",
      "R2 Score ridge 0.9593925976670763\n",
      "\n",
      "\n",
      "MSE ridge {All} 7332464875358842.0\n",
      "R2 Score ridge 0.9748682818153765\n",
      "\n"
     ]
    },
    {
     "data": {
      "text/plain": "<Figure size 864x576 with 2 Axes>",
      "image/png": "[encoded data removed]"
     },
     "metadata": {
      "needs_background": "light"
     },
     "output_type": "display_data"
    }
   ],
   "source": [
    "# script to load models and predict\n",
    "data = merge_data()\n",
    "data = cleaning(data)\n",
    "data = fill(data)\n",
    "data = encoding(data)\n",
    "data = feature_selection(data)\n",
    "x,y = divide_data(data)\n",
    "x = apply_scalling(x)\n",
    "\n",
    "\n",
    "# load and predict\n",
    "loaded_poly_features = joblib.load('poly_features')\n",
    "loaded_poly_model = joblib.load('poly_model')\n",
    "loaded_ridg_model = joblib.load('ridg_model')\n",
    "\n",
    "X_val_prep = loaded_poly_features.transform(x)\n",
    "poly_pred = loaded_poly_model.predict(X_val_prep)\n",
    "ridg_pred = loaded_ridg_model.predict(x)\n",
    "\n",
    "\n",
    "\n",
    "\n",
    "\n",
    "\n",
    "print(\"\")\n",
    "prediction_ridge = ridg.predict(x)\n",
    "print('MSE ridge {All}', metrics.mean_squared_error(np.asarray(y), prediction_ridge))\n",
    "print(\"R2 Score ridge\", metrics.r2_score(np.asarray(y), prediction_ridge))\n",
    "print(\"\")\n",
    "\n",
    "\n",
    "print(\"\")\n",
    "prediction_ploy = loaded_poly_model.predict(X_val_prep)\n",
    "print('MSE ridge {All}', metrics.mean_squared_error(np.asarray(y), prediction_ploy))\n",
    "print(\"R2 Score ridge\", metrics.r2_score(np.asarray(y), prediction_ploy))\n",
    "print(\"\")"
   ]
  }
 ],
 "metadata": {
  "interpreter": {
   "hash": "3c53d38db13075794741e8371862ca73ad19b2b8ffba1432ab561e98420da23f"
  },
  "kernelspec": {
   "display_name": "Python 3.10.4 64-bit",
   "language": "python",
   "name": "python3"
  },
  "language_info": {
   "codemirror_mode": {
    "name": "ipython",
    "version": 3
   },
   "file_extension": ".py",
   "mimetype": "text/x-python",
   "name": "python",
   "nbconvert_exporter": "python",
   "pygments_lexer": "ipython3",
   "version": "3.10.4"
  },
  "orig_nbformat": 4
 },
 "nbformat": 4,
 "nbformat_minor": 2
}